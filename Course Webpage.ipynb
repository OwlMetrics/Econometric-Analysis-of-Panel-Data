{
 "cells": [
  {
   "cell_type": "markdown",
   "metadata": {},
   "source": [
    "# **Econometric Analysis of Panel Data**\n",
    "\n",
    "***\n",
    "\n",
    "## Section 1\n",
    "\n",
    ">### 1.\n",
    "\n",
    ">### 2.\n",
    "\n",
    ">### 3.\n",
    "\n",
    ">### 4.\n",
    "\n",
    ">### 5.\n",
    "\n",
    ">### 6.\n",
    "\n",
    "## Section 2\n",
    "\n",
    ">### 1.\n",
    "\n",
    ">### 2.\n",
    "\n",
    ">### 3.\n",
    "\n",
    ">### 4.\n",
    "\n",
    ">### 5.\n",
    "\n",
    ">### 6."
   ]
  }
 ],
 "metadata": {
  "kernelspec": {
   "display_name": "Python 3",
   "language": "python",
   "name": "python3"
  },
  "language_info": {
   "codemirror_mode": {
    "name": "ipython",
    "version": 3
   },
   "file_extension": ".py",
   "mimetype": "text/x-python",
   "name": "python",
   "nbconvert_exporter": "python",
   "pygments_lexer": "ipython3",
   "version": "3.6.3"
  }
 },
 "nbformat": 4,
 "nbformat_minor": 2
}
